{
 "cells": [
  {
   "cell_type": "markdown",
   "id": "58774bac",
   "metadata": {},
   "source": [
    "# Dataprep\n",
    "\n",
    "When building a reticle sometimes you want to do boolean operations. This is usually known as dataprep.\n",
    "\n",
    "You can do this at the component level or at the top reticle assembled level.\n",
    "\n",
    "This tutorial is focusing on cleaning DRC on masks that have already been created."
   ]
  },
  {
   "cell_type": "code",
   "execution_count": null,
   "id": "7148de9d",
   "metadata": {},
   "outputs": [],
   "source": [
    "import gdsfactory as gf\n",
    "from gdsfactory.generic_tech.layer_map import LAYER\n",
    "\n",
    "import gplugins.klayout.dataprep as dp\n",
    "\n",
    "gf.CONF.display_type = \"klayout\""
   ]
  },
  {
   "cell_type": "markdown",
   "id": "ede29be5",
   "metadata": {},
   "source": [
    "\n",
    "You can manipulate layers using the klayout LayerProcessor to create a `RegionCollection` to operate on different layers.\n",
    "\n",
    "The advantage is that this can easily clean up routing, proximity effects, acute angles."
   ]
  },
  {
   "cell_type": "code",
   "execution_count": null,
   "id": "165e5642",
   "metadata": {},
   "outputs": [],
   "source": [
    "c = gf.Component()\n",
    "ring = c << gf.components.coupler_ring(radius=20)\n",
    "c.write_gds(\"input.gds\")\n",
    "d = dp.RegionCollection(gdspath=\"input.gds\")\n",
    "c.plot()"
   ]
  },
  {
   "cell_type": "markdown",
   "id": "52c3efee",
   "metadata": {},
   "source": [
    "## Copy layers\n",
    "\n",
    "You can access each layer as a dict."
   ]
  },
  {
   "cell_type": "code",
   "execution_count": null,
   "id": "4a11d49d",
   "metadata": {},
   "outputs": [],
   "source": [
    "d[LAYER.N] = d[\n",
    "    LAYER.WG\n",
    "].copy()  # make sure you add the copy to create a copy of the layer\n",
    "d.plot()"
   ]
  },
  {
   "cell_type": "markdown",
   "id": "5126a26d",
   "metadata": {},
   "source": [
    "## Remove layers"
   ]
  },
  {
   "cell_type": "code",
   "execution_count": null,
   "id": "0d7fc1d3",
   "metadata": {},
   "outputs": [],
   "source": [
    "d[LAYER.N].clear()\n",
    "d.plot()"
   ]
  },
  {
   "cell_type": "markdown",
   "id": "748b04c6",
   "metadata": {},
   "source": [
    "### Size\n",
    "\n",
    "You can size layers, positive numbers grow and negative shrink."
   ]
  },
  {
   "cell_type": "code",
   "execution_count": null,
   "id": "ffbd7162",
   "metadata": {},
   "outputs": [],
   "source": [
    "d[LAYER.SLAB90] = d[LAYER.WG] + 2  # size layer by 4 um\n",
    "d.plot()"
   ]
  },
  {
   "cell_type": "markdown",
   "id": "7152efb8",
   "metadata": {},
   "source": [
    "## Over / Under\n",
    "\n",
    "To avoid acute angle DRC errors you can grow and shrink polygons. This will remove regions smaller"
   ]
  },
  {
   "cell_type": "code",
   "execution_count": null,
   "id": "d3418886",
   "metadata": {},
   "outputs": [],
   "source": [
    "\n",
    "d[LAYER.SLAB90] += 2  # size layer by 4 um\n",
    "d[LAYER.SLAB90] -= 2  # size layer by 2 um\n",
    "d.plot()"
   ]
  },
  {
   "cell_type": "markdown",
   "id": "2de1d5a4",
   "metadata": {},
   "source": [
    "## Smooth\n",
    "\n",
    "You can smooth using [RDP](https://en.wikipedia.org/wiki/Ramer%E2%80%93Douglas%E2%80%93Peucker_algorithm)"
   ]
  },
  {
   "cell_type": "code",
   "execution_count": null,
   "id": "6ecadf7e",
   "metadata": {},
   "outputs": [],
   "source": [
    "d[LAYER.SLAB90].smooth(\n",
    "    1 * 1e3\n",
    ")  # smooth by 1um, Notice that klayout units are in DBU (database units) in this case 1nm, so 1um = 1e3\n",
    "d.plot()"
   ]
  },
  {
   "cell_type": "markdown",
   "id": "1c76c725",
   "metadata": {},
   "source": [
    "## Booleans\n",
    "\n",
    "You can derive layers and do boolean operations.\n"
   ]
  },
  {
   "cell_type": "code",
   "execution_count": null,
   "id": "a926e6ff",
   "metadata": {
    "lines_to_next_cell": 2
   },
   "outputs": [],
   "source": [
    "d[LAYER.DEEP_ETCH] = d[LAYER.SLAB90] - d[LAYER.WG]\n",
    "d.plot()"
   ]
  },
  {
   "cell_type": "markdown",
   "id": "47655df8",
   "metadata": {},
   "source": [
    "## Fill\n"
   ]
  },
  {
   "cell_type": "code",
   "execution_count": null,
   "id": "9cbfa8e0",
   "metadata": {},
   "outputs": [],
   "source": [
    "import gdsfactory as gf\n",
    "import kfactory as kf\n",
    "from kfactory.utils.fill import fill_tiled\n",
    "\n",
    "c = kf.KCell(\"ToFill\")\n",
    "c.shapes(kf.kcl.layer(1, 0)).insert(\n",
    "    kf.kdb.DPolygon.ellipse(kf.kdb.DBox(5000, 3000), 512)\n",
    ")\n",
    "c.shapes(kf.kcl.layer(10, 0)).insert(\n",
    "    kf.kdb.DPolygon(\n",
    "        [kf.kdb.DPoint(0, 0), kf.kdb.DPoint(5000, 0), kf.kdb.DPoint(5000, 3000)]\n",
    "    )\n",
    ")\n",
    "\n",
    "fc = kf.KCell(\"fill\")\n",
    "fc.shapes(fc.kcl.layer(2, 0)).insert(kf.kdb.DBox(20, 40))\n",
    "fc.shapes(fc.kcl.layer(3, 0)).insert(kf.kdb.DBox(30, 15))\n",
    "\n",
    "# fill.fill_tiled(c, fc, [(kf.kcl.layer(1,0), 0)], exclude_layers = [(kf.kcl.layer(10,0), 100), (kf.kcl.layer(2,0), 0), (kf.kcl.layer(3,0),0)], x_space=5, y_space=5)\n",
    "fill_tiled(\n",
    "    c,\n",
    "    fc,\n",
    "    [(kf.kcl.layer(1, 0), 0)],\n",
    "    exclude_layers=[\n",
    "        (kf.kcl.layer(10, 0), 100),\n",
    "        (kf.kcl.layer(2, 0), 0),\n",
    "        (kf.kcl.layer(3, 0), 0),\n",
    "    ],\n",
    "    x_space=5,\n",
    "    y_space=5,\n",
    ")\n",
    "\n",
    "gdspath = \"mzi_fill.gds\"\n",
    "c.write(gdspath)\n",
    "c = gf.import_gds(gdspath)\n",
    "c.plot()"
   ]
  }
 ],
 "metadata": {
  "jupytext": {
   "cell_metadata_filter": "-all",
   "custom_cell_magics": "kql"
  },
  "kernelspec": {
   "display_name": "base",
   "language": "python",
   "name": "python3"
  }
 },
 "nbformat": 4,
 "nbformat_minor": 5
}

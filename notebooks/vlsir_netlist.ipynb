{
 "cells": [
  {
   "cell_type": "markdown",
   "id": "e723264d",
   "metadata": {},
   "source": [
    "# VLSIR\n",
    "\n",
    "Thanks to [VLSIR](https://github.com/Vlsir/Vlsir) you can parse for KLayout's gds-extracted netlist's and convert it to Spectre, Spice and Xyce simulator schematic file formats\n",
    "\n",
    "\n",
    "## Simulator and Analysis Support\n",
    "\n",
    "Each spice-class simulator includes its own netlist syntax and opinions about the specification for analyses. [See](https://github.com/Vlsir/Vlsir/blob/main/VlsirTools/readme.md)\n",
    "\n",
    "| Analysis             | Spectre            | Xyce               | NgSpice     |\n",
    "| -------------------- | ------------------ | ------------------ | ------------------ |\n",
    "| Op                   | ✅ | ✅ | ✅ |\n",
    "| Dc                   | ✅ | ✅ | |\n",
    "| Tran                 | ✅ | ✅ | ✅ |\n",
    "| Ac                   | ✅ | ✅ | ✅ |\n",
    "| Noise                |                    |                    | ✅ |\n",
    "| Sweep                |  |  |  |\n",
    "| Monte Carlo          |  |  |  |\n",
    "| Custom               |  |  |  |\n"
   ]
  },
  {
   "cell_type": "code",
   "execution_count": null,
   "id": "b5519e32",
   "metadata": {},
   "outputs": [],
   "source": [
    "from io import StringIO\n",
    "\n",
    "from gdsfactory.samples.demo.lvs import pads_correct\n",
    "\n",
    "import gplugins.vlsir as gs\n",
    "from gplugins.klayout.get_netlist import get_netlist"
   ]
  },
  {
   "cell_type": "code",
   "execution_count": null,
   "id": "da2a2dd4",
   "metadata": {},
   "outputs": [],
   "source": [
    "c = pads_correct()\n",
    "c.plot()"
   ]
  },
  {
   "cell_type": "code",
   "execution_count": null,
   "id": "47e52b58",
   "metadata": {},
   "outputs": [],
   "source": [
    "gdspath = c.write_gds()\n",
    "\n",
    "# get the netlist\n",
    "kdbnetlist = get_netlist(gdspath)\n",
    "\n",
    "# convert it to a VLSIR Package\n",
    "pkg = gs.kdb_vlsir(kdbnetlist, domain=\"gplugins.klayout.example\")"
   ]
  },
  {
   "cell_type": "markdown",
   "id": "c6318917",
   "metadata": {},
   "source": [
    "## Spectre RF"
   ]
  },
  {
   "cell_type": "code",
   "execution_count": null,
   "id": "c75167ba",
   "metadata": {},
   "outputs": [],
   "source": [
    "out = StringIO()\n",
    "gs.export_netlist(pkg, dest=out, fmt=\"spectre\")\n",
    "print(out.getvalue())"
   ]
  },
  {
   "cell_type": "markdown",
   "id": "b6d360fd",
   "metadata": {},
   "source": [
    "## Xyce"
   ]
  },
  {
   "cell_type": "code",
   "execution_count": null,
   "id": "8486cea3",
   "metadata": {},
   "outputs": [],
   "source": [
    "out = StringIO()\n",
    "gs.export_netlist(pkg, dest=out, fmt=\"xyce\")\n",
    "print(out.getvalue())"
   ]
  },
  {
   "cell_type": "markdown",
   "id": "dd9bbf8b",
   "metadata": {},
   "source": [
    "## ngspice\n"
   ]
  },
  {
   "cell_type": "code",
   "execution_count": null,
   "id": "50437c41",
   "metadata": {},
   "outputs": [],
   "source": [
    "out = StringIO()\n",
    "gs.export_netlist(pkg, dest=out, fmt=\"spice\")\n",
    "print(out.getvalue())"
   ]
  },
  {
   "cell_type": "code",
   "execution_count": null,
   "id": "79785a40",
   "metadata": {},
   "outputs": [],
   "source": []
  }
 ],
 "metadata": {
  "jupytext": {
   "cell_metadata_filter": "-all",
   "custom_cell_magics": "kql"
  },
  "kernelspec": {
   "display_name": "base",
   "language": "python",
   "name": "python3"
  }
 },
 "nbformat": 4,
 "nbformat_minor": 5
}

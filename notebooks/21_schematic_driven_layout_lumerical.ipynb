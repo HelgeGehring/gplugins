{
 "cells": [
  {
   "cell_type": "markdown",
   "id": "0",
   "metadata": {},
   "source": [
    "# Schematic Driven layout with Lumerical\n",
    "\n",
    "The Schematic driven layout uses a schematic based on our `*.pic.yml`.\n",
    "\n",
    "![](https://i.imgur.com/AxIGd1w.png)\n",
    "\n",
    "You will need a supported PDK. Make sure your foundry has a CML for interconnect and that you have a gdsfactory to CML YAML mapping file.\n",
    "\n",
    "Steps:\n",
    "\n",
    "- export SPICE netlist from interconnect.\n",
    "- Convert the SPICE netlist to gdsfactory YAML `*.pic.yml`, using the mapping from gdsfactory to interconnect.\n",
    "- Iterate over the `pic.yml` until you are happy with the final placements in your layout."
   ]
  },
  {
   "cell_type": "code",
   "execution_count": null,
   "id": "1",
   "metadata": {},
   "outputs": [],
   "source": []
  }
 ],
 "metadata": {
  "jupytext": {
   "cell_metadata_filter": "-all",
   "custom_cell_magics": "kql"
  },
  "kernelspec": {
   "display_name": "base",
   "language": "python",
   "name": "python3"
  },
  "language_info": {
   "codemirror_mode": {
    "name": "ipython",
    "version": 3
   },
   "file_extension": ".py",
   "mimetype": "text/x-python",
   "name": "python",
   "nbconvert_exporter": "python",
   "pygments_lexer": "ipython3",
   "version": "3.11.5"
  }
 },
 "nbformat": 4,
 "nbformat_minor": 5
}
